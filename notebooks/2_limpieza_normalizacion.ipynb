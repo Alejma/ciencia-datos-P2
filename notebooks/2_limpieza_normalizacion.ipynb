{
 "cells": [
  {
   "cell_type": "markdown",
   "metadata": {},
   "source": [
    "# Proyecto 2 y 3 - Introduccion a la ciencia de datos\n",
    "* Alejandro Marin Hoyos\n",
    "* Manuel Antonio Vidales\n",
    "* Yessica Fernanda Villa  \n",
    "### 2. Limpieza y Normalización de Datos"
   ]
  },
  {
   "cell_type": "code",
   "execution_count": 9,
   "metadata": {},
   "outputs": [
    {
     "name": "stdout",
     "output_type": "stream",
     "text": [
      "Defaulting to user installation because normal site-packages is not writeable\n",
      "Collecting scikit-learn\n",
      "  Downloading scikit_learn-1.6.1-cp312-cp312-win_amd64.whl.metadata (15 kB)\n",
      "Requirement already satisfied: numpy>=1.19.5 in c:\\users\\usuario\\appdata\\roaming\\python\\python312\\site-packages (from scikit-learn) (2.2.1)\n",
      "Collecting scipy>=1.6.0 (from scikit-learn)\n",
      "  Downloading scipy-1.15.2-cp312-cp312-win_amd64.whl.metadata (60 kB)\n",
      "Collecting joblib>=1.2.0 (from scikit-learn)\n",
      "  Downloading joblib-1.4.2-py3-none-any.whl.metadata (5.4 kB)\n",
      "Collecting threadpoolctl>=3.1.0 (from scikit-learn)\n",
      "  Downloading threadpoolctl-3.6.0-py3-none-any.whl.metadata (13 kB)\n",
      "Downloading scikit_learn-1.6.1-cp312-cp312-win_amd64.whl (11.1 MB)\n",
      "   ---------------------------------------- 0.0/11.1 MB ? eta -:--:--\n",
      "   ---------------------------------------  11.0/11.1 MB 86.0 MB/s eta 0:00:01\n",
      "   ---------------------------------------- 11.1/11.1 MB 43.4 MB/s eta 0:00:00\n",
      "Downloading joblib-1.4.2-py3-none-any.whl (301 kB)\n",
      "Downloading scipy-1.15.2-cp312-cp312-win_amd64.whl (40.9 MB)\n",
      "   ---------------------------------------- 0.0/40.9 MB ? eta -:--:--\n",
      "   ------------------ --------------------- 19.1/40.9 MB 93.0 MB/s eta 0:00:01\n",
      "   ---------------------------------------  40.9/40.9 MB 104.2 MB/s eta 0:00:01\n",
      "   ---------------------------------------- 40.9/40.9 MB 79.0 MB/s eta 0:00:00\n",
      "Downloading threadpoolctl-3.6.0-py3-none-any.whl (18 kB)\n",
      "Installing collected packages: threadpoolctl, scipy, joblib, scikit-learn\n",
      "Successfully installed joblib-1.4.2 scikit-learn-1.6.1 scipy-1.15.2 threadpoolctl-3.6.0\n"
     ]
    },
    {
     "name": "stderr",
     "output_type": "stream",
     "text": [
      "\n",
      "[notice] A new release of pip is available: 24.2 -> 25.1\n",
      "[notice] To update, run: python.exe -m pip install --upgrade pip\n"
     ]
    }
   ],
   "source": [
    "!pip install scikit-learn\n"
   ]
  },
  {
   "cell_type": "markdown",
   "metadata": {},
   "source": [
    "Importacion de librerias necesarias"
   ]
  },
  {
   "cell_type": "code",
   "execution_count": 10,
   "metadata": {},
   "outputs": [
    {
     "name": "stdout",
     "output_type": "stream",
     "text": [
      "['Solarize_Light2', '_classic_test_patch', '_mpl-gallery', '_mpl-gallery-nogrid', 'bmh', 'classic', 'dark_background', 'fast', 'fivethirtyeight', 'ggplot', 'grayscale', 'petroff10', 'seaborn-v0_8', 'seaborn-v0_8-bright', 'seaborn-v0_8-colorblind', 'seaborn-v0_8-dark', 'seaborn-v0_8-dark-palette', 'seaborn-v0_8-darkgrid', 'seaborn-v0_8-deep', 'seaborn-v0_8-muted', 'seaborn-v0_8-notebook', 'seaborn-v0_8-paper', 'seaborn-v0_8-pastel', 'seaborn-v0_8-poster', 'seaborn-v0_8-talk', 'seaborn-v0_8-ticks', 'seaborn-v0_8-white', 'seaborn-v0_8-whitegrid', 'tableau-colorblind10']\n"
     ]
    }
   ],
   "source": [
    "# Importar librerías\n",
    "import pandas as pd\n",
    "import numpy as np\n",
    "import seaborn as sns\n",
    "from sklearn.preprocessing import StandardScaler\n",
    "from sklearn.model_selection import train_test_split\n",
    "import matplotlib.pyplot as plt\n",
    "print(plt.style.available)\n",
    "\n",
    "\n",
    "plt.style.use('seaborn-v0_8')"
   ]
  },
  {
   "cell_type": "markdown",
   "metadata": {},
   "source": [
    "Se carga el dataset"
   ]
  },
  {
   "cell_type": "code",
   "execution_count": 11,
   "metadata": {},
   "outputs": [],
   "source": [
    "# Cargar datos\n",
    "avocado = pd.read_csv('../data/avocado.csv')"
   ]
  },
  {
   "cell_type": "markdown",
   "metadata": {},
   "source": [
    "### 1. Manejo de valores nulos\n",
    "\n",
    "**Aunque este dataset no contiene valores nulos, a continuación se describe el protocolo a seguir en caso de que se presenten:**\n",
    "\n",
    "- **Para variables numéricas:**\n",
    "  - Se recomienda imputar los valores faltantes con la **mediana**, ya que es menos sensible a los valores atípicos, o con la **media** si se considera adecuado.\n",
    "\n",
    "- **Para variables categóricas:**\n",
    "  - En este caso, se sugiere imputar los valores faltantes con la **moda** o bien asignarles el valor **\"Desconocido\"** para evitar que los datos incompletos afecten el análisis."
   ]
  },
  {
   "cell_type": "code",
   "execution_count": 13,
   "metadata": {},
   "outputs": [
    {
     "data": {
      "text/html": [
       "<div>\n",
       "<style scoped>\n",
       "    .dataframe tbody tr th:only-of-type {\n",
       "        vertical-align: middle;\n",
       "    }\n",
       "\n",
       "    .dataframe tbody tr th {\n",
       "        vertical-align: top;\n",
       "    }\n",
       "\n",
       "    .dataframe thead th {\n",
       "        text-align: right;\n",
       "    }\n",
       "</style>\n",
       "<table border=\"1\" class=\"dataframe\">\n",
       "  <thead>\n",
       "    <tr style=\"text-align: right;\">\n",
       "      <th></th>\n",
       "      <th>Valores Nulos</th>\n",
       "      <th>Porcentaje (%)</th>\n",
       "    </tr>\n",
       "  </thead>\n",
       "  <tbody>\n",
       "    <tr>\n",
       "      <th>Unnamed: 0</th>\n",
       "      <td>0</td>\n",
       "      <td>0.0</td>\n",
       "    </tr>\n",
       "    <tr>\n",
       "      <th>Date</th>\n",
       "      <td>0</td>\n",
       "      <td>0.0</td>\n",
       "    </tr>\n",
       "    <tr>\n",
       "      <th>AveragePrice</th>\n",
       "      <td>0</td>\n",
       "      <td>0.0</td>\n",
       "    </tr>\n",
       "    <tr>\n",
       "      <th>Total Volume</th>\n",
       "      <td>0</td>\n",
       "      <td>0.0</td>\n",
       "    </tr>\n",
       "    <tr>\n",
       "      <th>4046</th>\n",
       "      <td>0</td>\n",
       "      <td>0.0</td>\n",
       "    </tr>\n",
       "    <tr>\n",
       "      <th>4225</th>\n",
       "      <td>0</td>\n",
       "      <td>0.0</td>\n",
       "    </tr>\n",
       "    <tr>\n",
       "      <th>4770</th>\n",
       "      <td>0</td>\n",
       "      <td>0.0</td>\n",
       "    </tr>\n",
       "    <tr>\n",
       "      <th>Total Bags</th>\n",
       "      <td>0</td>\n",
       "      <td>0.0</td>\n",
       "    </tr>\n",
       "    <tr>\n",
       "      <th>Small Bags</th>\n",
       "      <td>0</td>\n",
       "      <td>0.0</td>\n",
       "    </tr>\n",
       "    <tr>\n",
       "      <th>Large Bags</th>\n",
       "      <td>0</td>\n",
       "      <td>0.0</td>\n",
       "    </tr>\n",
       "    <tr>\n",
       "      <th>XLarge Bags</th>\n",
       "      <td>0</td>\n",
       "      <td>0.0</td>\n",
       "    </tr>\n",
       "    <tr>\n",
       "      <th>type</th>\n",
       "      <td>0</td>\n",
       "      <td>0.0</td>\n",
       "    </tr>\n",
       "    <tr>\n",
       "      <th>year</th>\n",
       "      <td>0</td>\n",
       "      <td>0.0</td>\n",
       "    </tr>\n",
       "    <tr>\n",
       "      <th>region</th>\n",
       "      <td>0</td>\n",
       "      <td>0.0</td>\n",
       "    </tr>\n",
       "  </tbody>\n",
       "</table>\n",
       "</div>"
      ],
      "text/plain": [
       "              Valores Nulos  Porcentaje (%)\n",
       "Unnamed: 0                0             0.0\n",
       "Date                      0             0.0\n",
       "AveragePrice              0             0.0\n",
       "Total Volume              0             0.0\n",
       "4046                      0             0.0\n",
       "4225                      0             0.0\n",
       "4770                      0             0.0\n",
       "Total Bags                0             0.0\n",
       "Small Bags                0             0.0\n",
       "Large Bags                0             0.0\n",
       "XLarge Bags               0             0.0\n",
       "type                      0             0.0\n",
       "year                      0             0.0\n",
       "region                    0             0.0"
      ]
     },
     "execution_count": 13,
     "metadata": {},
     "output_type": "execute_result"
    }
   ],
   "source": [
    "# Verificamos si hay valores nulos en el dataset\n",
    "null_counts = avocado.isnull().sum()\n",
    "null_percentage = (avocado.isnull().mean() * 100).round(2)\n",
    "\n",
    "pd.DataFrame({\n",
    "    'Valores Nulos': null_counts,\n",
    "    'Porcentaje (%)': null_percentage\n",
    "}).sort_values(by='Porcentaje (%)', ascending=False)"
   ]
  },
  {
   "cell_type": "markdown",
   "metadata": {},
   "source": [
    "### Tratamiento de Valores Atípicos\n",
    "### Identificación con IQR\n",
    "\n",
    "Se utilizó el **método del Rango Intercuartílico (IQR)** para identificar los **valores atípicos** en la columna **\"Total Volume\"** del conjunto de datos de aguacates. El proceso consistió en:\n",
    "\n",
    "1. Calcular los **cuartiles** (Q1 y Q3) y el **Rango Intercuartílico (IQR)**.\n",
    "2. Establecer los **límites inferior y superior** para detectar los valores fuera de estos rangos.\n",
    "3. Filtrar los datos para identificar los registros que superan los límites establecidos.\n",
    "\n",
    "El número total de **valores atípicos** encontrados en la columna \"Total Volume\" fue determinado, proporcionando información clave para el análisis y tratamiento de los outliers en el conjunto de datos."
   ]
  },
  {
   "cell_type": "code",
   "execution_count": 15,
   "metadata": {},
   "outputs": [
    {
     "name": "stdout",
     "output_type": "stream",
     "text": [
      "Número de outliers en 'Total Volume': 2297\n"
     ]
    }
   ],
   "source": [
    "def detectar_outliers(df, column):\n",
    "    Q1 = df[column].quantile(0.25)\n",
    "    Q3 = df[column].quantile(0.75)\n",
    "    IQR = Q3 - Q1\n",
    "    lower_bound = Q1 - 1.5 * IQR\n",
    "    upper_bound = Q3 + 1.5 * IQR\n",
    "    return df[(df[column] < lower_bound) | (df[column] > upper_bound)]\n",
    "outliers = detectar_outliers(avocado, 'Total Volume')\n",
    "print(f\"Número de outliers en 'Total Volume': {len(outliers)}\")\n"
   ]
  },
  {
   "cell_type": "markdown",
   "metadata": {},
   "source": [
    "### Estrategias para el Tratamiento de Valores Atípicos\n",
    "\n",
    "- **Transformación logarítmica:** Es adecuada para datos que siguen una distribución exponencial, ya que mantiene el orden de los datos sin eliminar valores extremos.\n",
    "- **Winsorization:** Es útil cuando se desea mantener los valores originales, pero limitando los valores atípicos a un rango aceptable."
   ]
  },
  {
   "cell_type": "code",
   "execution_count": null,
   "metadata": {},
   "outputs": [
    {
     "data": {
      "image/png": "[encoded data removed]",
      "text/plain": [
       "<Figure size 1800x500 with 3 Axes>"
      ]
     },
     "metadata": {},
     "output_type": "display_data"
    }
   ],
   "source": [
    "# Opción 1: Transformación logarítmica\n",
    "avocado['Total Volume_log'] = np.log1p(avocado['Total Volume'])\n",
    "\n",
    "# Opción 2: Winsorization\n",
    "from scipy.stats.mstats import winsorize\n",
    "avocado['Total Volume_winsorized'] = winsorize(avocado['Total Volume'], limits=[0.05, 0.05])\n",
    "\n",
    "# Comparación visual\n",
    "fig, axes = plt.subplots(1, 3, figsize=(18, 5))\n",
    "\n",
    "sns.boxplot(y=avocado['Total Volume'], ax=axes[0], color='skyblue').set_title('Original')\n",
    "sns.boxplot(y=avocado['Total Volume_log'], ax=axes[1], color='lightgreen').set_title('Log Transform')\n",
    "sns.boxplot(y=avocado['Total Volume_winsorized'], ax=axes[2], color='salmon').set_title('Winsorized')\n",
    "\n",
    "plt.show()\n"
   ]
  },
  {
   "cell_type": "markdown",
   "metadata": {},
   "source": [
    "## 3. Transformación de variables categóricas\n",
    "### Convertir 'type' a dummy"
   ]
  },
  {
   "cell_type": "code",
   "execution_count": 19,
   "metadata": {},
   "outputs": [],
   "source": [
    "avocado = pd.get_dummies(avocado, columns=['type'], drop_first=True)"
   ]
  },
  {
   "cell_type": "markdown",
   "metadata": {},
   "source": [
    "### Convertir fecha a características numéricas"
   ]
  },
  {
   "cell_type": "code",
   "execution_count": 20,
   "metadata": {},
   "outputs": [],
   "source": [
    "avocado['Date'] = pd.to_datetime(avocado['Date'])\n",
    "avocado['month'] = avocado['Date'].dt.month\n",
    "avocado['day_of_week'] = avocado['Date'].dt.dayofweek\n",
    "avocado.drop('Date', axis=1, inplace=True)"
   ]
  },
  {
   "cell_type": "markdown",
   "metadata": {},
   "source": [
    "### Codificación one-hot para region (simplificada)\n",
    "Se agruparon las regiones menos frecuentes bajo la categoría 'Other' y se aplicó codificación one-hot a la columna 'region', eliminando la primera columna para evitar multicolinealidad. Esto simplifica la variable para su uso en modelos de machine learning."
   ]
  },
  {
   "cell_type": "code",
   "execution_count": 21,
   "metadata": {},
   "outputs": [],
   "source": [
    "top_regions = avocado['region'].value_counts().nlargest(10).index\n",
    "avocado['region'] = avocado['region'].apply(lambda x: x if x in top_regions else 'Other')\n",
    "avocado = pd.get_dummies(avocado, columns=['region'], drop_first=True)"
   ]
  },
  {
   "cell_type": "markdown",
   "metadata": {},
   "source": [
    "###  Normalización\n",
    "\n",
    "Se aplicó **normalización** a las columnas numéricas del conjunto de datos que representan volúmenes y cantidades de aguacates, utilizando el **StandardScaler** de scikit-learn. Las columnas normalizadas incluyen **'Total Volume'**, **'4046'**, **'4225'**, **'4770'**, **'Total Bags'**, **'Small Bags'**, **'Large Bags'**, y **'XLarge Bags'**.\n",
    "\n",
    "La normalización fue realizada con el método **StandardScaler**, que ajusta los datos para que tengan una media de 0 y una desviación estándar de 1, lo que facilita su uso en modelos de machine learning al evitar que las variables con mayores escalas dominen el aprendizaje.\n",
    "\n",
    "Este proceso mejora la eficiencia y precisión de los modelos al asegurar que todas las variables estén en una escala comparable.\n"
   ]
  },
  {
   "cell_type": "code",
   "execution_count": 22,
   "metadata": {},
   "outputs": [],
   "source": [
    "cols_to_scale = ['Total Volume', '4046', '4225', '4770', \n",
    "                'Total Bags', 'Small Bags', 'Large Bags', 'XLarge Bags']\n",
    "\n",
    "scaler = StandardScaler()\n",
    "avocado[cols_to_scale] = scaler.fit_transform(avocado[cols_to_scale])"
   ]
  },
  {
   "cell_type": "markdown",
   "metadata": {},
   "source": [
    "## Guardar datos limpios"
   ]
  },
  {
   "cell_type": "code",
   "execution_count": 23,
   "metadata": {},
   "outputs": [
    {
     "name": "stdout",
     "output_type": "stream",
     "text": [
      "Datos limpios guardados exitosamente en 'avocado_clean.csv'.\n"
     ]
    }
   ],
   "source": [
    "avocado.to_csv('../data/avocado_clean.csv', index=False)\n",
    "print(\"Datos limpios guardados exitosamente en 'avocado_clean.csv'.\")"
   ]
  }
 ],
 "metadata": {
  "kernelspec": {
   "display_name": "Python 3",
   "language": "python",
   "name": "python3"
  },
  "language_info": {
   "codemirror_mode": {
    "name": "ipython",
    "version": 3
   },
   "file_extension": ".py",
   "mimetype": "text/x-python",
   "name": "python",
   "nbconvert_exporter": "python",
   "pygments_lexer": "ipython3",
   "version": "3.12.5"
  }
 },
 "nbformat": 4,
 "nbformat_minor": 2
}
