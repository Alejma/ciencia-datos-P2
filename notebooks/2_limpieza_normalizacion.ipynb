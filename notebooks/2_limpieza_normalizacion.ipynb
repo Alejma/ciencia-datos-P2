{
 "cells": [
  {
   "cell_type": "markdown",
   "metadata": {},
   "source": [
    "# Proyecto 2 y 3 - Introduccion a la ciencia de datos\n",
    "* Alejandro Marin Hoyos\n",
    "* Manuel Antonio Vidales\n",
    "* Yessica Fernanda Villa  \n",
    "### 2. Limpieza y Normalización de Datos"
   ]
  }
 ],
 "metadata": {
  "language_info": {
   "name": "python"
  }
 },
 "nbformat": 4,
 "nbformat_minor": 2
}
