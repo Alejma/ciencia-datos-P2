{
 "cells": [
  {
   "cell_type": "markdown",
   "metadata": {},
   "source": [
    "# Proyecto 2 y 3 - Introduccion a la ciencia de datos\n",
    "* Alejandro Marin Hoyos\n",
    "* Manuel Antonio Vidales\n",
    "* Yessica Fernanda Villa  \n",
    "### 3. Implementación de Modelos Predictivos"
   ]
  }
 ],
 "metadata": {
  "language_info": {
   "name": "python"
  }
 },
 "nbformat": 4,
 "nbformat_minor": 2
}
